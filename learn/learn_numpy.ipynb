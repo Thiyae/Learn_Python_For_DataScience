{
 "cells": [
  {
   "cell_type": "code",
   "execution_count": 5,
   "id": "e936f023-9141-4d8e-9b2e-a4281b1d1ef6",
   "metadata": {},
   "outputs": [],
   "source": [
    "import numpy as np"
   ]
  },
  {
   "cell_type": "code",
   "execution_count": 18,
   "id": "c4f6e4fd-c20a-4bcf-8d0a-74d883f73efa",
   "metadata": {},
   "outputs": [],
   "source": [
    "my_list=np.array([1,2,3,4,5,6],dtype=float)"
   ]
  },
  {
   "cell_type": "code",
   "execution_count": 19,
   "id": "4544e885-bbf9-4568-84c0-6b118d93e01b",
   "metadata": {},
   "outputs": [
    {
     "name": "stdout",
     "output_type": "stream",
     "text": [
      "[1. 2. 3. 4. 5. 6.]\n"
     ]
    }
   ],
   "source": [
    "print(my_list)"
   ]
  },
  {
   "cell_type": "code",
   "execution_count": 20,
   "id": "3bcbd791-57c5-408d-b265-ea660ec3d197",
   "metadata": {},
   "outputs": [
    {
     "data": {
      "text/plain": [
       "numpy.ndarray"
      ]
     },
     "execution_count": 20,
     "metadata": {},
     "output_type": "execute_result"
    }
   ],
   "source": [
    "type(my_list)"
   ]
  },
  {
   "cell_type": "code",
   "execution_count": 21,
   "id": "ca2dae6e-18a2-4893-8640-865fe8b21b2c",
   "metadata": {},
   "outputs": [
    {
     "data": {
      "text/plain": [
       "6"
      ]
     },
     "execution_count": 21,
     "metadata": {},
     "output_type": "execute_result"
    }
   ],
   "source": [
    "len(my_list)"
   ]
  },
  {
   "cell_type": "code",
   "execution_count": 22,
   "id": "af080d98-c4e9-4df6-92b0-fc9f4f038825",
   "metadata": {},
   "outputs": [
    {
     "data": {
      "text/plain": [
       "1"
      ]
     },
     "execution_count": 22,
     "metadata": {},
     "output_type": "execute_result"
    }
   ],
   "source": [
    "my_list.ndim"
   ]
  },
  {
   "cell_type": "code",
   "execution_count": 23,
   "id": "3433d53e-56f8-43d3-91ca-a75e76a84018",
   "metadata": {},
   "outputs": [
    {
     "data": {
      "text/plain": [
       "(6,)"
      ]
     },
     "execution_count": 23,
     "metadata": {},
     "output_type": "execute_result"
    }
   ],
   "source": [
    "my_list.shape"
   ]
  },
  {
   "cell_type": "code",
   "execution_count": 37,
   "id": "ba543d02-49da-4ae9-a5a9-18d265f20215",
   "metadata": {},
   "outputs": [],
   "source": [
    "array=my_list.reshape(2,-1)"
   ]
  },
  {
   "cell_type": "code",
   "execution_count": 38,
   "id": "196e526b-7ab1-4944-843d-d782edf686ec",
   "metadata": {},
   "outputs": [
    {
     "data": {
      "text/plain": [
       "array([[1., 2., 3.],\n",
       "       [4., 5., 6.]])"
      ]
     },
     "execution_count": 38,
     "metadata": {},
     "output_type": "execute_result"
    }
   ],
   "source": [
    "array"
   ]
  },
  {
   "cell_type": "code",
   "execution_count": 39,
   "id": "54ee5693-77d1-4c5f-a70d-acacbbccab8e",
   "metadata": {},
   "outputs": [
    {
     "data": {
      "text/plain": [
       "2"
      ]
     },
     "execution_count": 39,
     "metadata": {},
     "output_type": "execute_result"
    }
   ],
   "source": [
    "array.ndim"
   ]
  },
  {
   "cell_type": "code",
   "execution_count": 40,
   "id": "21ba98f6-4149-41ab-8156-c3594a793a9c",
   "metadata": {},
   "outputs": [
    {
     "data": {
      "text/plain": [
       "(2, 3)"
      ]
     },
     "execution_count": 40,
     "metadata": {},
     "output_type": "execute_result"
    }
   ],
   "source": [
    "array.shape"
   ]
  },
  {
   "cell_type": "code",
   "execution_count": 41,
   "id": "fc07aba2-810c-4199-a570-b0ec18829896",
   "metadata": {},
   "outputs": [],
   "source": [
    "list1=[1,2,3,4]\n",
    "list2=[2,3,4,5]\n",
    "list3=[3,4,5,6]"
   ]
  },
  {
   "cell_type": "code",
   "execution_count": 43,
   "id": "486598c7-c192-443a-84a5-89e046f3de76",
   "metadata": {},
   "outputs": [],
   "source": [
    "array_1=np.array([list1,list2,list3])"
   ]
  },
  {
   "cell_type": "code",
   "execution_count": 44,
   "id": "49b2885c-95d6-4a9e-9183-37f4c227732c",
   "metadata": {},
   "outputs": [
    {
     "data": {
      "text/plain": [
       "array([[1, 2, 3, 4],\n",
       "       [2, 3, 4, 5],\n",
       "       [3, 4, 5, 6]])"
      ]
     },
     "execution_count": 44,
     "metadata": {},
     "output_type": "execute_result"
    }
   ],
   "source": [
    "array_1"
   ]
  },
  {
   "cell_type": "code",
   "execution_count": 45,
   "id": "abba3c88-ce29-48fc-b2a9-a46a3c167650",
   "metadata": {},
   "outputs": [],
   "source": [
    "array_2=array_1.reshape(2,-1)"
   ]
  },
  {
   "cell_type": "code",
   "execution_count": 46,
   "id": "76cfe11c-1492-4829-a8d3-36b43a757a92",
   "metadata": {},
   "outputs": [
    {
     "data": {
      "text/plain": [
       "array([[1, 2, 3, 4, 2, 3],\n",
       "       [4, 5, 3, 4, 5, 6]])"
      ]
     },
     "execution_count": 46,
     "metadata": {},
     "output_type": "execute_result"
    }
   ],
   "source": [
    "array_2"
   ]
  },
  {
   "cell_type": "code",
   "execution_count": 47,
   "id": "d990ff0a-981a-4ac3-ba99-ff3fbd3133d2",
   "metadata": {},
   "outputs": [
    {
     "data": {
      "text/plain": [
       "(2, 6)"
      ]
     },
     "execution_count": 47,
     "metadata": {},
     "output_type": "execute_result"
    }
   ],
   "source": [
    "array_2.shape"
   ]
  },
  {
   "cell_type": "code",
   "execution_count": 48,
   "id": "cbb05888-d1df-473e-bb40-2215f9aee2da",
   "metadata": {},
   "outputs": [],
   "source": [
    "r=range(1,4)"
   ]
  },
  {
   "cell_type": "code",
   "execution_count": 50,
   "id": "8632cea1-221b-4a8e-b435-bceca3f84baf",
   "metadata": {},
   "outputs": [
    {
     "name": "stdout",
     "output_type": "stream",
     "text": [
      "range(1, 4)\n"
     ]
    }
   ],
   "source": [
    "print(r)"
   ]
  },
  {
   "cell_type": "code",
   "execution_count": 59,
   "id": "17c9406d-7e58-4bf7-9b57-5bd6e80558db",
   "metadata": {},
   "outputs": [],
   "source": [
    "arr=np.arange(0,24,3)"
   ]
  },
  {
   "cell_type": "code",
   "execution_count": 60,
   "id": "42aebb87-d903-46ad-b312-6673b77f97d1",
   "metadata": {},
   "outputs": [
    {
     "data": {
      "text/plain": [
       "array([ 0,  3,  6,  9, 12, 15, 18, 21])"
      ]
     },
     "execution_count": 60,
     "metadata": {},
     "output_type": "execute_result"
    }
   ],
   "source": [
    "arr"
   ]
  },
  {
   "cell_type": "code",
   "execution_count": 62,
   "id": "1278e710-bc32-4316-984e-5f5ca41a6fe4",
   "metadata": {},
   "outputs": [
    {
     "data": {
      "text/plain": [
       "array([[ 0,  3],\n",
       "       [ 6,  9],\n",
       "       [12, 15],\n",
       "       [18, 21]])"
      ]
     },
     "execution_count": 62,
     "metadata": {},
     "output_type": "execute_result"
    }
   ],
   "source": [
    "arr.reshape(4,-1)"
   ]
  },
  {
   "cell_type": "code",
   "execution_count": 65,
   "id": "7f2b224f-a3f4-4c92-ad63-020e2106fd67",
   "metadata": {},
   "outputs": [],
   "source": [
    "arr1=np.array([[1,2],[3,4]])\n",
    "arr2=np.array([[1,2],[3,4]])"
   ]
  },
  {
   "cell_type": "code",
   "execution_count": 66,
   "id": "8b9179d8-d880-4e81-9eda-2be97a1d8e66",
   "metadata": {},
   "outputs": [
    {
     "data": {
      "text/plain": [
       "array([[2, 4],\n",
       "       [6, 8]])"
      ]
     },
     "execution_count": 66,
     "metadata": {},
     "output_type": "execute_result"
    }
   ],
   "source": [
    "arr1+arr2"
   ]
  },
  {
   "cell_type": "code",
   "execution_count": 67,
   "id": "ca1ae714-8a48-4abd-9609-4b42aa2146f6",
   "metadata": {},
   "outputs": [
    {
     "data": {
      "text/plain": [
       "array([[2, 4],\n",
       "       [6, 8]])"
      ]
     },
     "execution_count": 67,
     "metadata": {},
     "output_type": "execute_result"
    }
   ],
   "source": [
    "np.add(arr1,arr2)"
   ]
  },
  {
   "cell_type": "code",
   "execution_count": 68,
   "id": "cdf8f715-1f3b-4bd0-9f07-f17aa1eea4f1",
   "metadata": {},
   "outputs": [
    {
     "data": {
      "text/plain": [
       "array([[0, 0],\n",
       "       [0, 0]])"
      ]
     },
     "execution_count": 68,
     "metadata": {},
     "output_type": "execute_result"
    }
   ],
   "source": [
    "arr1-arr2"
   ]
  },
  {
   "cell_type": "code",
   "execution_count": 69,
   "id": "c77b4bcd-7a5f-4cfd-9d05-23f6b163d384",
   "metadata": {},
   "outputs": [
    {
     "data": {
      "text/plain": [
       "array([[0, 0],\n",
       "       [0, 0]])"
      ]
     },
     "execution_count": 69,
     "metadata": {},
     "output_type": "execute_result"
    }
   ],
   "source": [
    "np.subtract(arr1,arr2)"
   ]
  },
  {
   "cell_type": "code",
   "execution_count": 70,
   "id": "60960d4a-abe4-44a9-9708-e84ec728fae3",
   "metadata": {},
   "outputs": [
    {
     "data": {
      "text/plain": [
       "array([[ 1,  4],\n",
       "       [ 9, 16]])"
      ]
     },
     "execution_count": 70,
     "metadata": {},
     "output_type": "execute_result"
    }
   ],
   "source": [
    "arr1*arr2"
   ]
  },
  {
   "cell_type": "code",
   "execution_count": 74,
   "id": "36d9e3da-6db7-4bd3-9241-775c67f7d872",
   "metadata": {},
   "outputs": [
    {
     "data": {
      "text/plain": [
       "array([[ 7, 10],\n",
       "       [15, 22]])"
      ]
     },
     "execution_count": 74,
     "metadata": {},
     "output_type": "execute_result"
    }
   ],
   "source": [
    "np.dot(arr1,arr2)\n",
    "arr1.dot(arr2)"
   ]
  },
  {
   "cell_type": "code",
   "execution_count": 73,
   "id": "1277c5af-1db3-4bca-9f2b-9081bdbaaa9b",
   "metadata": {},
   "outputs": [
    {
     "data": {
      "text/plain": [
       "array([[1., 1.],\n",
       "       [1., 1.]])"
      ]
     },
     "execution_count": 73,
     "metadata": {},
     "output_type": "execute_result"
    }
   ],
   "source": [
    "np.divide(arr1,arr2)"
   ]
  },
  {
   "cell_type": "code",
   "execution_count": 78,
   "id": "f76ec220-adfd-4fd6-a23f-211e8f9ace6e",
   "metadata": {},
   "outputs": [
    {
     "name": "stdout",
     "output_type": "stream",
     "text": [
      "42\n"
     ]
    }
   ],
   "source": [
    "print(np.sum(array_1))"
   ]
  },
  {
   "cell_type": "code",
   "execution_count": 79,
   "id": "eac2c167-b92c-400e-a8a7-6deec0708da4",
   "metadata": {},
   "outputs": [
    {
     "name": "stdout",
     "output_type": "stream",
     "text": [
      "[ 6  9 12 15]\n"
     ]
    }
   ],
   "source": [
    "print(np.sum(array_1,axis=0))"
   ]
  },
  {
   "cell_type": "code",
   "execution_count": 80,
   "id": "74a5f373-a713-4499-befd-cd67d161f4c4",
   "metadata": {},
   "outputs": [
    {
     "name": "stdout",
     "output_type": "stream",
     "text": [
      "[10 14 18]\n"
     ]
    }
   ],
   "source": [
    "print(np.sum(array_1,axis=1))"
   ]
  },
  {
   "cell_type": "code",
   "execution_count": null,
   "id": "00ef935d-50ff-4237-8d5a-7cfd767cd7d0",
   "metadata": {},
   "outputs": [],
   "source": []
  }
 ],
 "metadata": {
  "kernelspec": {
   "display_name": "Python 3 (ipykernel)",
   "language": "python",
   "name": "python3"
  },
  "language_info": {
   "codemirror_mode": {
    "name": "ipython",
    "version": 3
   },
   "file_extension": ".py",
   "mimetype": "text/x-python",
   "name": "python",
   "nbconvert_exporter": "python",
   "pygments_lexer": "ipython3",
   "version": "3.13.5"
  }
 },
 "nbformat": 4,
 "nbformat_minor": 5
}
