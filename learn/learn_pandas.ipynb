{
 "cells": [
  {
   "cell_type": "markdown",
   "id": "0a41a316-0daa-4053-9e3b-ec5731486241",
   "metadata": {},
   "source": [
    "**Reading data of different formats**"
   ]
  },
  {
   "cell_type": "code",
   "execution_count": 1,
   "id": "19a92f22-459e-4be6-8e5e-cdab27c18cf4",
   "metadata": {},
   "outputs": [],
   "source": [
    "import pandas as pd\n",
    "import os\n",
    "import numpy as np\n"
   ]
  },
  {
   "cell_type": "code",
   "execution_count": 2,
   "id": "b066be73-1fae-433e-8898-76df46fa5d29",
   "metadata": {},
   "outputs": [],
   "source": [
    "s=pd.read_csv(\"student.csv\",index_col=0,na_values=[\"Three\",55])\n",
    "se=pd.read_excel(\"student.xlsx\")"
   ]
  },
  {
   "cell_type": "code",
   "execution_count": 3,
   "id": "cf8abc74-1ae8-4d86-8e23-3fb7fb80113c",
   "metadata": {},
   "outputs": [
    {
     "data": {
      "text/html": [
       "<div>\n",
       "<style scoped>\n",
       "    .dataframe tbody tr th:only-of-type {\n",
       "        vertical-align: middle;\n",
       "    }\n",
       "\n",
       "    .dataframe tbody tr th {\n",
       "        vertical-align: top;\n",
       "    }\n",
       "\n",
       "    .dataframe thead th {\n",
       "        text-align: right;\n",
       "    }\n",
       "</style>\n",
       "<table border=\"1\" class=\"dataframe\">\n",
       "  <thead>\n",
       "    <tr style=\"text-align: right;\">\n",
       "      <th></th>\n",
       "      <th>name</th>\n",
       "      <th>class</th>\n",
       "      <th>mark</th>\n",
       "      <th>gender</th>\n",
       "    </tr>\n",
       "    <tr>\n",
       "      <th>id</th>\n",
       "      <th></th>\n",
       "      <th></th>\n",
       "      <th></th>\n",
       "      <th></th>\n",
       "    </tr>\n",
       "  </thead>\n",
       "  <tbody>\n",
       "    <tr>\n",
       "      <th>1</th>\n",
       "      <td>John Deo</td>\n",
       "      <td>Four</td>\n",
       "      <td>75.0</td>\n",
       "      <td>female</td>\n",
       "    </tr>\n",
       "    <tr>\n",
       "      <th>2</th>\n",
       "      <td>Max Ruin</td>\n",
       "      <td>NaN</td>\n",
       "      <td>85.0</td>\n",
       "      <td>male</td>\n",
       "    </tr>\n",
       "    <tr>\n",
       "      <th>3</th>\n",
       "      <td>Arnold</td>\n",
       "      <td>NaN</td>\n",
       "      <td>NaN</td>\n",
       "      <td>male</td>\n",
       "    </tr>\n",
       "    <tr>\n",
       "      <th>4</th>\n",
       "      <td>Krish Star</td>\n",
       "      <td>Four</td>\n",
       "      <td>60.0</td>\n",
       "      <td>female</td>\n",
       "    </tr>\n",
       "    <tr>\n",
       "      <th>5</th>\n",
       "      <td>John Mike</td>\n",
       "      <td>Four</td>\n",
       "      <td>60.0</td>\n",
       "      <td>female</td>\n",
       "    </tr>\n",
       "  </tbody>\n",
       "</table>\n",
       "</div>"
      ],
      "text/plain": [
       "          name class  mark  gender\n",
       "id                                \n",
       "1     John Deo  Four  75.0  female\n",
       "2     Max Ruin   NaN  85.0    male\n",
       "3       Arnold   NaN   NaN    male\n",
       "4   Krish Star  Four  60.0  female\n",
       "5    John Mike  Four  60.0  female"
      ]
     },
     "execution_count": 3,
     "metadata": {},
     "output_type": "execute_result"
    }
   ],
   "source": [
    "s.head()"
   ]
  },
  {
   "cell_type": "code",
   "execution_count": 4,
   "id": "cc74ec50-8e98-419d-b36f-4a6b6d2b486a",
   "metadata": {},
   "outputs": [
    {
     "data": {
      "text/html": [
       "<div>\n",
       "<style scoped>\n",
       "    .dataframe tbody tr th:only-of-type {\n",
       "        vertical-align: middle;\n",
       "    }\n",
       "\n",
       "    .dataframe tbody tr th {\n",
       "        vertical-align: top;\n",
       "    }\n",
       "\n",
       "    .dataframe thead th {\n",
       "        text-align: right;\n",
       "    }\n",
       "</style>\n",
       "<table border=\"1\" class=\"dataframe\">\n",
       "  <thead>\n",
       "    <tr style=\"text-align: right;\">\n",
       "      <th></th>\n",
       "      <th>id</th>\n",
       "      <th>name</th>\n",
       "      <th>class</th>\n",
       "      <th>mark</th>\n",
       "      <th>gender</th>\n",
       "    </tr>\n",
       "  </thead>\n",
       "  <tbody>\n",
       "    <tr>\n",
       "      <th>0</th>\n",
       "      <td>1</td>\n",
       "      <td>John Deo</td>\n",
       "      <td>Four</td>\n",
       "      <td>75</td>\n",
       "      <td>female</td>\n",
       "    </tr>\n",
       "    <tr>\n",
       "      <th>1</th>\n",
       "      <td>2</td>\n",
       "      <td>Max Ruin</td>\n",
       "      <td>Three</td>\n",
       "      <td>85</td>\n",
       "      <td>male</td>\n",
       "    </tr>\n",
       "    <tr>\n",
       "      <th>2</th>\n",
       "      <td>3</td>\n",
       "      <td>Arnold</td>\n",
       "      <td>Three</td>\n",
       "      <td>55</td>\n",
       "      <td>male</td>\n",
       "    </tr>\n",
       "    <tr>\n",
       "      <th>3</th>\n",
       "      <td>4</td>\n",
       "      <td>Krish Star</td>\n",
       "      <td>Four</td>\n",
       "      <td>60</td>\n",
       "      <td>female</td>\n",
       "    </tr>\n",
       "    <tr>\n",
       "      <th>4</th>\n",
       "      <td>5</td>\n",
       "      <td>John Mike</td>\n",
       "      <td>Four</td>\n",
       "      <td>60</td>\n",
       "      <td>female</td>\n",
       "    </tr>\n",
       "  </tbody>\n",
       "</table>\n",
       "</div>"
      ],
      "text/plain": [
       "   id        name  class  mark  gender\n",
       "0   1    John Deo   Four    75  female\n",
       "1   2    Max Ruin  Three    85    male\n",
       "2   3      Arnold  Three    55    male\n",
       "3   4  Krish Star   Four    60  female\n",
       "4   5   John Mike   Four    60  female"
      ]
     },
     "execution_count": 4,
     "metadata": {},
     "output_type": "execute_result"
    }
   ],
   "source": [
    "se.head()"
   ]
  },
  {
   "cell_type": "markdown",
   "id": "83c512c2-0512-43b5-afee-4c9e4294a227",
   "metadata": {},
   "source": [
    "**Data Frame**"
   ]
  },
  {
   "cell_type": "code",
   "execution_count": 6,
   "id": "f0d09b54-9ef8-4717-b23e-29fbb14c7677",
   "metadata": {},
   "outputs": [],
   "source": [
    "cars_data=pd.read_csv(\"Toyota.csv\",index_col=0,na_values=['????','??'])"
   ]
  },
  {
   "cell_type": "code",
   "execution_count": 7,
   "id": "ceeedcb5-fe10-4564-8326-2210a04d9154",
   "metadata": {},
   "outputs": [
    {
     "data": {
      "text/html": [
       "<div>\n",
       "<style scoped>\n",
       "    .dataframe tbody tr th:only-of-type {\n",
       "        vertical-align: middle;\n",
       "    }\n",
       "\n",
       "    .dataframe tbody tr th {\n",
       "        vertical-align: top;\n",
       "    }\n",
       "\n",
       "    .dataframe thead th {\n",
       "        text-align: right;\n",
       "    }\n",
       "</style>\n",
       "<table border=\"1\" class=\"dataframe\">\n",
       "  <thead>\n",
       "    <tr style=\"text-align: right;\">\n",
       "      <th></th>\n",
       "      <th>Price</th>\n",
       "      <th>Age</th>\n",
       "      <th>KM</th>\n",
       "      <th>FuelType</th>\n",
       "      <th>HP</th>\n",
       "      <th>MetColor</th>\n",
       "      <th>Automatic</th>\n",
       "      <th>CC</th>\n",
       "      <th>Doors</th>\n",
       "      <th>Weight</th>\n",
       "    </tr>\n",
       "  </thead>\n",
       "  <tbody>\n",
       "    <tr>\n",
       "      <th>0</th>\n",
       "      <td>13500</td>\n",
       "      <td>23.0</td>\n",
       "      <td>46986.0</td>\n",
       "      <td>Diesel</td>\n",
       "      <td>90.0</td>\n",
       "      <td>1.0</td>\n",
       "      <td>0</td>\n",
       "      <td>2000</td>\n",
       "      <td>three</td>\n",
       "      <td>1165</td>\n",
       "    </tr>\n",
       "    <tr>\n",
       "      <th>1</th>\n",
       "      <td>13750</td>\n",
       "      <td>23.0</td>\n",
       "      <td>72937.0</td>\n",
       "      <td>Diesel</td>\n",
       "      <td>90.0</td>\n",
       "      <td>1.0</td>\n",
       "      <td>0</td>\n",
       "      <td>2000</td>\n",
       "      <td>3</td>\n",
       "      <td>1165</td>\n",
       "    </tr>\n",
       "    <tr>\n",
       "      <th>2</th>\n",
       "      <td>13950</td>\n",
       "      <td>24.0</td>\n",
       "      <td>41711.0</td>\n",
       "      <td>Diesel</td>\n",
       "      <td>90.0</td>\n",
       "      <td>NaN</td>\n",
       "      <td>0</td>\n",
       "      <td>2000</td>\n",
       "      <td>3</td>\n",
       "      <td>1165</td>\n",
       "    </tr>\n",
       "    <tr>\n",
       "      <th>3</th>\n",
       "      <td>14950</td>\n",
       "      <td>26.0</td>\n",
       "      <td>48000.0</td>\n",
       "      <td>Diesel</td>\n",
       "      <td>90.0</td>\n",
       "      <td>0.0</td>\n",
       "      <td>0</td>\n",
       "      <td>2000</td>\n",
       "      <td>3</td>\n",
       "      <td>1165</td>\n",
       "    </tr>\n",
       "    <tr>\n",
       "      <th>4</th>\n",
       "      <td>13750</td>\n",
       "      <td>30.0</td>\n",
       "      <td>38500.0</td>\n",
       "      <td>Diesel</td>\n",
       "      <td>90.0</td>\n",
       "      <td>0.0</td>\n",
       "      <td>0</td>\n",
       "      <td>2000</td>\n",
       "      <td>3</td>\n",
       "      <td>1170</td>\n",
       "    </tr>\n",
       "  </tbody>\n",
       "</table>\n",
       "</div>"
      ],
      "text/plain": [
       "   Price   Age       KM FuelType    HP  MetColor  Automatic    CC  Doors  \\\n",
       "0  13500  23.0  46986.0   Diesel  90.0       1.0          0  2000  three   \n",
       "1  13750  23.0  72937.0   Diesel  90.0       1.0          0  2000      3   \n",
       "2  13950  24.0  41711.0   Diesel  90.0       NaN          0  2000      3   \n",
       "3  14950  26.0  48000.0   Diesel  90.0       0.0          0  2000      3   \n",
       "4  13750  30.0  38500.0   Diesel  90.0       0.0          0  2000      3   \n",
       "\n",
       "   Weight  \n",
       "0    1165  \n",
       "1    1165  \n",
       "2    1165  \n",
       "3    1165  \n",
       "4    1170  "
      ]
     },
     "execution_count": 7,
     "metadata": {},
     "output_type": "execute_result"
    }
   ],
   "source": [
    "cars_data.head()"
   ]
  },
  {
   "cell_type": "code",
   "execution_count": 8,
   "id": "ae7994b8-7407-4d47-a927-a0c8441e0da4",
   "metadata": {},
   "outputs": [],
   "source": [
    "#copying of dataframe\n",
    "cars=cars_data.copy(deep=True)"
   ]
  },
  {
   "cell_type": "code",
   "execution_count": 9,
   "id": "48f75a37-b6d5-47e0-8aa6-7f58c00ef1cb",
   "metadata": {},
   "outputs": [
    {
     "data": {
      "text/plain": [
       "Index([   0,    1,    2,    3,    4,    5,    6,    7,    8,    9,\n",
       "       ...\n",
       "       1426, 1427, 1428, 1429, 1430, 1431, 1432, 1433, 1434, 1435],\n",
       "      dtype='int64', length=1436)"
      ]
     },
     "execution_count": 9,
     "metadata": {},
     "output_type": "execute_result"
    }
   ],
   "source": [
    "cars.index"
   ]
  },
  {
   "cell_type": "code",
   "execution_count": 10,
   "id": "763c7f86-04a7-40ef-aaf6-bd9c52bda157",
   "metadata": {},
   "outputs": [
    {
     "data": {
      "text/plain": [
       "Index(['Price', 'Age', 'KM', 'FuelType', 'HP', 'MetColor', 'Automatic', 'CC',\n",
       "       'Doors', 'Weight'],\n",
       "      dtype='object')"
      ]
     },
     "execution_count": 10,
     "metadata": {},
     "output_type": "execute_result"
    }
   ],
   "source": [
    "cars.columns"
   ]
  },
  {
   "cell_type": "code",
   "execution_count": 11,
   "id": "2d58d903-c081-41e2-a8ec-079f7734e0df",
   "metadata": {},
   "outputs": [
    {
     "data": {
      "text/plain": [
       "14360"
      ]
     },
     "execution_count": 11,
     "metadata": {},
     "output_type": "execute_result"
    }
   ],
   "source": [
    "cars.size"
   ]
  },
  {
   "cell_type": "code",
   "execution_count": 12,
   "id": "4c06a8f2-5f78-4905-97b0-cd264770f873",
   "metadata": {},
   "outputs": [
    {
     "data": {
      "text/plain": [
       "(1436, 10)"
      ]
     },
     "execution_count": 12,
     "metadata": {},
     "output_type": "execute_result"
    }
   ],
   "source": [
    "cars.shape"
   ]
  },
  {
   "cell_type": "code",
   "execution_count": 13,
   "id": "e1db006c-948b-491b-b649-bcabfe4e257b",
   "metadata": {},
   "outputs": [
    {
     "data": {
      "text/plain": [
       "Index        11488\n",
       "Price        11488\n",
       "Age          11488\n",
       "KM           11488\n",
       "FuelType     11488\n",
       "HP           11488\n",
       "MetColor     11488\n",
       "Automatic    11488\n",
       "CC           11488\n",
       "Doors        11488\n",
       "Weight       11488\n",
       "dtype: int64"
      ]
     },
     "execution_count": 13,
     "metadata": {},
     "output_type": "execute_result"
    }
   ],
   "source": [
    "cars.memory_usage()"
   ]
  },
  {
   "cell_type": "code",
   "execution_count": 14,
   "id": "4d8e6e2b-dc97-4f9a-9080-3450fc8b43d1",
   "metadata": {},
   "outputs": [
    {
     "data": {
      "text/plain": [
       "2"
      ]
     },
     "execution_count": 14,
     "metadata": {},
     "output_type": "execute_result"
    }
   ],
   "source": [
    "cars.ndim"
   ]
  },
  {
   "cell_type": "code",
   "execution_count": 15,
   "id": "9e7e700a-8073-437e-9be7-07b1df519e08",
   "metadata": {},
   "outputs": [
    {
     "data": {
      "text/plain": [
       "np.float64(24.0)"
      ]
     },
     "execution_count": 15,
     "metadata": {},
     "output_type": "execute_result"
    }
   ],
   "source": [
    "cars.at[2,\"Age\"]"
   ]
  },
  {
   "cell_type": "code",
   "execution_count": 16,
   "id": "9fe4a93f-6889-4c33-bcf4-75753fbeb241",
   "metadata": {},
   "outputs": [
    {
     "data": {
      "text/plain": [
       "0       Diesel\n",
       "1       Diesel\n",
       "2       Diesel\n",
       "3       Diesel\n",
       "4       Diesel\n",
       "         ...  \n",
       "1431    Petrol\n",
       "1432    Petrol\n",
       "1433    Petrol\n",
       "1434       NaN\n",
       "1435    Petrol\n",
       "Name: FuelType, Length: 1436, dtype: object"
      ]
     },
     "execution_count": 16,
     "metadata": {},
     "output_type": "execute_result"
    }
   ],
   "source": [
    "cars.loc[:,'FuelType']"
   ]
  },
  {
   "cell_type": "code",
   "execution_count": 17,
   "id": "7b700829-8f5a-4c9b-b6a1-61044cd933f7",
   "metadata": {},
   "outputs": [
    {
     "data": {
      "text/plain": [
       "Price          int64\n",
       "Age          float64\n",
       "KM           float64\n",
       "FuelType      object\n",
       "HP           float64\n",
       "MetColor     float64\n",
       "Automatic      int64\n",
       "CC             int64\n",
       "Doors         object\n",
       "Weight         int64\n",
       "dtype: object"
      ]
     },
     "execution_count": 17,
     "metadata": {},
     "output_type": "execute_result"
    }
   ],
   "source": [
    "cars.dtypes"
   ]
  },
  {
   "cell_type": "code",
   "execution_count": 18,
   "id": "4db987ba-9277-4840-bca0-2667c573ad69",
   "metadata": {},
   "outputs": [
    {
     "data": {
      "text/plain": [
       "int64      4\n",
       "float64    4\n",
       "object     2\n",
       "Name: count, dtype: int64"
      ]
     },
     "execution_count": 18,
     "metadata": {},
     "output_type": "execute_result"
    }
   ],
   "source": [
    "cars.dtypes.value_counts()"
   ]
  },
  {
   "cell_type": "code",
   "execution_count": 19,
   "id": "ec428e1a-6ee7-4673-9871-9c0b3d5256bb",
   "metadata": {},
   "outputs": [
    {
     "data": {
      "text/html": [
       "<div>\n",
       "<style scoped>\n",
       "    .dataframe tbody tr th:only-of-type {\n",
       "        vertical-align: middle;\n",
       "    }\n",
       "\n",
       "    .dataframe tbody tr th {\n",
       "        vertical-align: top;\n",
       "    }\n",
       "\n",
       "    .dataframe thead th {\n",
       "        text-align: right;\n",
       "    }\n",
       "</style>\n",
       "<table border=\"1\" class=\"dataframe\">\n",
       "  <thead>\n",
       "    <tr style=\"text-align: right;\">\n",
       "      <th></th>\n",
       "      <th>Price</th>\n",
       "      <th>Age</th>\n",
       "      <th>KM</th>\n",
       "      <th>HP</th>\n",
       "      <th>MetColor</th>\n",
       "      <th>Automatic</th>\n",
       "      <th>CC</th>\n",
       "      <th>Weight</th>\n",
       "    </tr>\n",
       "  </thead>\n",
       "  <tbody>\n",
       "    <tr>\n",
       "      <th>0</th>\n",
       "      <td>13500</td>\n",
       "      <td>23.0</td>\n",
       "      <td>46986.0</td>\n",
       "      <td>90.0</td>\n",
       "      <td>1.0</td>\n",
       "      <td>0</td>\n",
       "      <td>2000</td>\n",
       "      <td>1165</td>\n",
       "    </tr>\n",
       "    <tr>\n",
       "      <th>1</th>\n",
       "      <td>13750</td>\n",
       "      <td>23.0</td>\n",
       "      <td>72937.0</td>\n",
       "      <td>90.0</td>\n",
       "      <td>1.0</td>\n",
       "      <td>0</td>\n",
       "      <td>2000</td>\n",
       "      <td>1165</td>\n",
       "    </tr>\n",
       "    <tr>\n",
       "      <th>2</th>\n",
       "      <td>13950</td>\n",
       "      <td>24.0</td>\n",
       "      <td>41711.0</td>\n",
       "      <td>90.0</td>\n",
       "      <td>NaN</td>\n",
       "      <td>0</td>\n",
       "      <td>2000</td>\n",
       "      <td>1165</td>\n",
       "    </tr>\n",
       "    <tr>\n",
       "      <th>3</th>\n",
       "      <td>14950</td>\n",
       "      <td>26.0</td>\n",
       "      <td>48000.0</td>\n",
       "      <td>90.0</td>\n",
       "      <td>0.0</td>\n",
       "      <td>0</td>\n",
       "      <td>2000</td>\n",
       "      <td>1165</td>\n",
       "    </tr>\n",
       "    <tr>\n",
       "      <th>4</th>\n",
       "      <td>13750</td>\n",
       "      <td>30.0</td>\n",
       "      <td>38500.0</td>\n",
       "      <td>90.0</td>\n",
       "      <td>0.0</td>\n",
       "      <td>0</td>\n",
       "      <td>2000</td>\n",
       "      <td>1170</td>\n",
       "    </tr>\n",
       "    <tr>\n",
       "      <th>...</th>\n",
       "      <td>...</td>\n",
       "      <td>...</td>\n",
       "      <td>...</td>\n",
       "      <td>...</td>\n",
       "      <td>...</td>\n",
       "      <td>...</td>\n",
       "      <td>...</td>\n",
       "      <td>...</td>\n",
       "    </tr>\n",
       "    <tr>\n",
       "      <th>1431</th>\n",
       "      <td>7500</td>\n",
       "      <td>NaN</td>\n",
       "      <td>20544.0</td>\n",
       "      <td>86.0</td>\n",
       "      <td>1.0</td>\n",
       "      <td>0</td>\n",
       "      <td>1300</td>\n",
       "      <td>1025</td>\n",
       "    </tr>\n",
       "    <tr>\n",
       "      <th>1432</th>\n",
       "      <td>10845</td>\n",
       "      <td>72.0</td>\n",
       "      <td>NaN</td>\n",
       "      <td>86.0</td>\n",
       "      <td>0.0</td>\n",
       "      <td>0</td>\n",
       "      <td>1300</td>\n",
       "      <td>1015</td>\n",
       "    </tr>\n",
       "    <tr>\n",
       "      <th>1433</th>\n",
       "      <td>8500</td>\n",
       "      <td>NaN</td>\n",
       "      <td>17016.0</td>\n",
       "      <td>86.0</td>\n",
       "      <td>0.0</td>\n",
       "      <td>0</td>\n",
       "      <td>1300</td>\n",
       "      <td>1015</td>\n",
       "    </tr>\n",
       "    <tr>\n",
       "      <th>1434</th>\n",
       "      <td>7250</td>\n",
       "      <td>70.0</td>\n",
       "      <td>NaN</td>\n",
       "      <td>86.0</td>\n",
       "      <td>1.0</td>\n",
       "      <td>0</td>\n",
       "      <td>1300</td>\n",
       "      <td>1015</td>\n",
       "    </tr>\n",
       "    <tr>\n",
       "      <th>1435</th>\n",
       "      <td>6950</td>\n",
       "      <td>76.0</td>\n",
       "      <td>1.0</td>\n",
       "      <td>110.0</td>\n",
       "      <td>0.0</td>\n",
       "      <td>0</td>\n",
       "      <td>1600</td>\n",
       "      <td>1114</td>\n",
       "    </tr>\n",
       "  </tbody>\n",
       "</table>\n",
       "<p>1436 rows × 8 columns</p>\n",
       "</div>"
      ],
      "text/plain": [
       "      Price   Age       KM     HP  MetColor  Automatic    CC  Weight\n",
       "0     13500  23.0  46986.0   90.0       1.0          0  2000    1165\n",
       "1     13750  23.0  72937.0   90.0       1.0          0  2000    1165\n",
       "2     13950  24.0  41711.0   90.0       NaN          0  2000    1165\n",
       "3     14950  26.0  48000.0   90.0       0.0          0  2000    1165\n",
       "4     13750  30.0  38500.0   90.0       0.0          0  2000    1170\n",
       "...     ...   ...      ...    ...       ...        ...   ...     ...\n",
       "1431   7500   NaN  20544.0   86.0       1.0          0  1300    1025\n",
       "1432  10845  72.0      NaN   86.0       0.0          0  1300    1015\n",
       "1433   8500   NaN  17016.0   86.0       0.0          0  1300    1015\n",
       "1434   7250  70.0      NaN   86.0       1.0          0  1300    1015\n",
       "1435   6950  76.0      1.0  110.0       0.0          0  1600    1114\n",
       "\n",
       "[1436 rows x 8 columns]"
      ]
     },
     "execution_count": 19,
     "metadata": {},
     "output_type": "execute_result"
    }
   ],
   "source": [
    "cars.select_dtypes(include=None,exclude=[object])"
   ]
  },
  {
   "cell_type": "code",
   "execution_count": 20,
   "id": "1beae576-aa8c-409f-aad7-b520320427c4",
   "metadata": {},
   "outputs": [
    {
     "name": "stdout",
     "output_type": "stream",
     "text": [
      "<class 'pandas.core.frame.DataFrame'>\n",
      "Index: 1436 entries, 0 to 1435\n",
      "Data columns (total 10 columns):\n",
      " #   Column     Non-Null Count  Dtype  \n",
      "---  ------     --------------  -----  \n",
      " 0   Price      1436 non-null   int64  \n",
      " 1   Age        1336 non-null   float64\n",
      " 2   KM         1421 non-null   float64\n",
      " 3   FuelType   1336 non-null   object \n",
      " 4   HP         1430 non-null   float64\n",
      " 5   MetColor   1286 non-null   float64\n",
      " 6   Automatic  1436 non-null   int64  \n",
      " 7   CC         1436 non-null   int64  \n",
      " 8   Doors      1436 non-null   object \n",
      " 9   Weight     1436 non-null   int64  \n",
      "dtypes: float64(4), int64(4), object(2)\n",
      "memory usage: 155.7+ KB\n"
     ]
    }
   ],
   "source": [
    "cars.info()"
   ]
  },
  {
   "cell_type": "code",
   "execution_count": 21,
   "id": "89467cf9-487c-480b-86b3-d7ee0fe196c3",
   "metadata": {},
   "outputs": [
    {
     "data": {
      "text/plain": [
       "array([ 0.,  1., nan])"
      ]
     },
     "execution_count": 21,
     "metadata": {},
     "output_type": "execute_result"
    }
   ],
   "source": [
    "np.unique(cars['MetColor'])"
   ]
  },
  {
   "cell_type": "code",
   "execution_count": 22,
   "id": "7595bea5-5639-4549-b054-0cfe92e6d316",
   "metadata": {},
   "outputs": [
    {
     "data": {
      "text/plain": [
       "array(['2', '3', '4', '5', 'five', 'four', 'three'], dtype=object)"
      ]
     },
     "execution_count": 22,
     "metadata": {},
     "output_type": "execute_result"
    }
   ],
   "source": [
    "np.unique(cars['Doors'])"
   ]
  },
  {
   "cell_type": "code",
   "execution_count": 24,
   "id": "c39ac24b-b251-412d-aa50-f32060a79ae1",
   "metadata": {},
   "outputs": [],
   "source": [
    "cars.to_csv('new_cars_data.csv')"
   ]
  },
  {
   "cell_type": "code",
   "execution_count": null,
   "id": "6dd089f2-009a-4cc7-abd9-f654dbb6c972",
   "metadata": {},
   "outputs": [],
   "source": []
  }
 ],
 "metadata": {
  "kernelspec": {
   "display_name": "Python 3 (ipykernel)",
   "language": "python",
   "name": "python3"
  },
  "language_info": {
   "codemirror_mode": {
    "name": "ipython",
    "version": 3
   },
   "file_extension": ".py",
   "mimetype": "text/x-python",
   "name": "python",
   "nbconvert_exporter": "python",
   "pygments_lexer": "ipython3",
   "version": "3.13.5"
  }
 },
 "nbformat": 4,
 "nbformat_minor": 5
}
